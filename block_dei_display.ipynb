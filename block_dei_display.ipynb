{
 "cells": [
  {
   "cell_type": "markdown",
   "id": "7eca8284",
   "metadata": {},
   "source": [
    "## Visualising representation of genders in tech from Block's public data\n",
    "\n",
    "See: https://squareup.com/us/en/about/diversity/archive\n",
    "\n",
    "Datasource: Data was crafted by hand by scraping the following URLs\n",
    "- https://squareup.com/us/en/about/diversity/workforce-data-2021\n",
    "- https://squareup.com/us/en/about/diversity/archive/workforce-data-2020\n",
    "- 2018 is missing\n",
    "- https://squareup.com/us/en/about/diversity/archive/workforce-data-2019\n",
    "- https://squareup.com/us/en/about/diversity/archive/workforce-data-2017\n",
    "\n"
   ]
  },
  {
   "cell_type": "code",
   "execution_count": 1,
   "id": "e32e25d3",
   "metadata": {},
   "outputs": [],
   "source": [
    "import numpy as np\n",
    "import pandas as pd\n",
    "import json\n",
    "import matplotlib.pyplot as plt"
   ]
  },
  {
   "cell_type": "code",
   "execution_count": 16,
   "id": "2a80eda4",
   "metadata": {},
   "outputs": [
    {
     "data": {
      "text/html": [
       "<div>\n",
       "<style scoped>\n",
       "    .dataframe tbody tr th:only-of-type {\n",
       "        vertical-align: middle;\n",
       "    }\n",
       "\n",
       "    .dataframe tbody tr th {\n",
       "        vertical-align: top;\n",
       "    }\n",
       "\n",
       "    .dataframe thead th {\n",
       "        text-align: right;\n",
       "    }\n",
       "</style>\n",
       "<table border=\"1\" class=\"dataframe\">\n",
       "  <thead>\n",
       "    <tr style=\"text-align: right;\">\n",
       "      <th></th>\n",
       "      <th>report_year</th>\n",
       "      <th>non_binary</th>\n",
       "      <th>women</th>\n",
       "      <th>men</th>\n",
       "    </tr>\n",
       "  </thead>\n",
       "  <tbody>\n",
       "    <tr>\n",
       "      <th>0</th>\n",
       "      <td>2017</td>\n",
       "      <td>NaN</td>\n",
       "      <td>0.188</td>\n",
       "      <td>0.812</td>\n",
       "    </tr>\n",
       "    <tr>\n",
       "      <th>1</th>\n",
       "      <td>2018</td>\n",
       "      <td>NaN</td>\n",
       "      <td>NaN</td>\n",
       "      <td>NaN</td>\n",
       "    </tr>\n",
       "    <tr>\n",
       "      <th>2</th>\n",
       "      <td>2019</td>\n",
       "      <td>NaN</td>\n",
       "      <td>0.229</td>\n",
       "      <td>0.771</td>\n",
       "    </tr>\n",
       "    <tr>\n",
       "      <th>3</th>\n",
       "      <td>2020</td>\n",
       "      <td>0.002</td>\n",
       "      <td>0.232</td>\n",
       "      <td>0.765</td>\n",
       "    </tr>\n",
       "    <tr>\n",
       "      <th>4</th>\n",
       "      <td>2021</td>\n",
       "      <td>0.003</td>\n",
       "      <td>0.258</td>\n",
       "      <td>0.739</td>\n",
       "    </tr>\n",
       "  </tbody>\n",
       "</table>\n",
       "</div>"
      ],
      "text/plain": [
       "  report_year  non_binary  women    men\n",
       "0        2017         NaN  0.188  0.812\n",
       "1        2018         NaN    NaN    NaN\n",
       "2        2019         NaN  0.229  0.771\n",
       "3        2020       0.002  0.232  0.765\n",
       "4        2021       0.003  0.258  0.739"
      ]
     },
     "execution_count": 16,
     "metadata": {},
     "output_type": "execute_result"
    }
   ],
   "source": [
    "df_tech = pd.DataFrame({\n",
    "    \"report_year\": [\"2017\", \"2018\", \"2019\", \"2020\", \"2021\"],\n",
    "    \"non_binary\" : [np.nan, np.nan, np.nan, 0.002, 0.003],\n",
    "    \"women\": [0.188, np.nan, 0.229, 0.232, 0.258],\n",
    "    \"men\": [0.812, np.nan, 0.771, 0.765, 0.739]\n",
    "})\n",
    "df_tech"
   ]
  },
  {
   "cell_type": "code",
   "execution_count": 25,
   "id": "19e09111",
   "metadata": {},
   "outputs": [
    {
     "data": {
      "image/png": "[encoded data removed]",
      "text/plain": [
       "<Figure size 576x360 with 1 Axes>"
      ]
     },
     "metadata": {
      "needs_background": "light"
     },
     "output_type": "display_data"
    }
   ],
   "source": [
    "labels = list(df_tech['report_year'])\n",
    "labels = list(map(str, labels))\n",
    "\n",
    "women_percentages = df_tech[\"women\"].values * 100\n",
    "non_binary_percentages = df_tech[\"non_binary\"].values * 100\n",
    "men_percentages = df_tech[\"men\"].values * 100\n",
    "\n",
    "x = np.arange(len(labels))  # the label locations\n",
    "width = 0.35  # the width of the bars\n",
    "\n",
    "fig, ax = plt.subplots(figsize=[8, 5])\n",
    "rects1 = ax.bar(x - width, non_binary_percentages, width=width, label='Non Binary', color='green')\n",
    "rects2 = ax.bar(x, women_percentages, width=width, label='Women', color='tab:blue')\n",
    "rects3 = ax.bar(x + width, men_percentages, width=width, label='Men', color='orange')\n",
    "\n",
    "# Add some text for labels, title and custom x-axis tick labels, etc.\n",
    "ax.set_ylabel('%')\n",
    "ax.set_title('Representation of genders in tech at Block globally')\n",
    "ax.set_xticks(x)\n",
    "ax.set_xticklabels(labels)\n",
    "ax.legend(bbox_to_anchor=(1, 1))\n",
    "\n",
    "\n",
    "ax.bar_label(rects1, padding=3)\n",
    "ax.bar_label(rects2, padding=3)\n",
    "\n",
    "fig.tight_layout()"
   ]
  },
  {
   "cell_type": "code",
   "execution_count": null,
   "id": "6e9ccc45",
   "metadata": {},
   "outputs": [],
   "source": []
  }
 ],
 "metadata": {
  "kernelspec": {
   "display_name": "Python 3 (ipykernel)",
   "language": "python",
   "name": "python3"
  },
  "language_info": {
   "codemirror_mode": {
    "name": "ipython",
    "version": 3
   },
   "file_extension": ".py",
   "mimetype": "text/x-python",
   "name": "python",
   "nbconvert_exporter": "python",
   "pygments_lexer": "ipython3",
   "version": "3.8.0"
  }
 },
 "nbformat": 4,
 "nbformat_minor": 5
}
