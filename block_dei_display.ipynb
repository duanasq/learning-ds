{
  "cells": [
    {
      "cell_type": "markdown",
      "metadata": {
        "id": "view-in-github",
        "colab_type": "text"
      },
      "source": [
        "<a href=\"https://colab.research.google.com/github/duanasq/learning-ds-public/blob/main/block_dei_display.ipynb\" target=\"_parent\"><img src=\"https://colab.research.google.com/assets/colab-badge.svg\" alt=\"Open In Colab\"/></a>"
      ]
    },
    {
      "cell_type": "markdown",
      "id": "7eca8284",
      "metadata": {
        "id": "7eca8284"
      },
      "source": [
        "## Visualising representation of genders in tech from Block's public data\n",
        "\n",
        "See: https://squareup.com/us/en/about/diversity/archive\n",
        "\n",
        "Datasource: Data was crafted by hand by scraping the following URLs\n",
        "- https://block.xyz/inclusion/workforce-data-2022\n",
        "- https://squareup.com/us/en/about/diversity/workforce-data-2021\n",
        "- https://squareup.com/us/en/about/diversity/archive/workforce-data-2020\n",
        "- 2018 is missing\n",
        "- https://squareup.com/us/en/about/diversity/archive/workforce-data-2019\n",
        "- https://squareup.com/us/en/about/diversity/archive/workforce-data-2017\n",
        "\n"
      ]
    },
    {
      "cell_type": "code",
      "execution_count": null,
      "id": "e32e25d3",
      "metadata": {
        "id": "e32e25d3"
      },
      "outputs": [],
      "source": [
        "import numpy as np\n",
        "import pandas as pd\n",
        "import json\n",
        "import matplotlib\n",
        "import matplotlib.pyplot as plt"
      ]
    },
    {
      "cell_type": "code",
      "execution_count": null,
      "id": "2a80eda4",
      "metadata": {
        "id": "2a80eda4",
        "outputId": "f11ef4a3-8214-4e4f-a859-4ac973563ba6",
        "colab": {
          "base_uri": "https://localhost:8080/",
          "height": 237
        }
      },
      "outputs": [
        {
          "output_type": "execute_result",
          "data": {
            "text/plain": [
              "   report_year  non_binary  women    men\n",
              "0         2017         NaN  0.188  0.812\n",
              "1         2018         NaN    NaN    NaN\n",
              "2         2019         NaN  0.229  0.771\n",
              "3         2020       0.002  0.232  0.765\n",
              "4         2021       0.003  0.258  0.739\n",
              "5         2022       0.006  0.290  0.704"
            ],
            "text/html": [
              "\n",
              "  <div id=\"df-75d5f254-2ae2-4c5e-8156-08449ef4d376\">\n",
              "    <div class=\"colab-df-container\">\n",
              "      <div>\n",
              "<style scoped>\n",
              "    .dataframe tbody tr th:only-of-type {\n",
              "        vertical-align: middle;\n",
              "    }\n",
              "\n",
              "    .dataframe tbody tr th {\n",
              "        vertical-align: top;\n",
              "    }\n",
              "\n",
              "    .dataframe thead th {\n",
              "        text-align: right;\n",
              "    }\n",
              "</style>\n",
              "<table border=\"1\" class=\"dataframe\">\n",
              "  <thead>\n",
              "    <tr style=\"text-align: right;\">\n",
              "      <th></th>\n",
              "      <th>report_year</th>\n",
              "      <th>non_binary</th>\n",
              "      <th>women</th>\n",
              "      <th>men</th>\n",
              "    </tr>\n",
              "  </thead>\n",
              "  <tbody>\n",
              "    <tr>\n",
              "      <th>0</th>\n",
              "      <td>2017</td>\n",
              "      <td>NaN</td>\n",
              "      <td>0.188</td>\n",
              "      <td>0.812</td>\n",
              "    </tr>\n",
              "    <tr>\n",
              "      <th>1</th>\n",
              "      <td>2018</td>\n",
              "      <td>NaN</td>\n",
              "      <td>NaN</td>\n",
              "      <td>NaN</td>\n",
              "    </tr>\n",
              "    <tr>\n",
              "      <th>2</th>\n",
              "      <td>2019</td>\n",
              "      <td>NaN</td>\n",
              "      <td>0.229</td>\n",
              "      <td>0.771</td>\n",
              "    </tr>\n",
              "    <tr>\n",
              "      <th>3</th>\n",
              "      <td>2020</td>\n",
              "      <td>0.002</td>\n",
              "      <td>0.232</td>\n",
              "      <td>0.765</td>\n",
              "    </tr>\n",
              "    <tr>\n",
              "      <th>4</th>\n",
              "      <td>2021</td>\n",
              "      <td>0.003</td>\n",
              "      <td>0.258</td>\n",
              "      <td>0.739</td>\n",
              "    </tr>\n",
              "    <tr>\n",
              "      <th>5</th>\n",
              "      <td>2022</td>\n",
              "      <td>0.006</td>\n",
              "      <td>0.290</td>\n",
              "      <td>0.704</td>\n",
              "    </tr>\n",
              "  </tbody>\n",
              "</table>\n",
              "</div>\n",
              "      <button class=\"colab-df-convert\" onclick=\"convertToInteractive('df-75d5f254-2ae2-4c5e-8156-08449ef4d376')\"\n",
              "              title=\"Convert this dataframe to an interactive table.\"\n",
              "              style=\"display:none;\">\n",
              "        \n",
              "  <svg xmlns=\"http://www.w3.org/2000/svg\" height=\"24px\"viewBox=\"0 0 24 24\"\n",
              "       width=\"24px\">\n",
              "    <path d=\"M0 0h24v24H0V0z\" fill=\"none\"/>\n",
              "    <path d=\"M18.56 5.44l.94 2.06.94-2.06 2.06-.94-2.06-.94-.94-2.06-.94 2.06-2.06.94zm-11 1L8.5 8.5l.94-2.06 2.06-.94-2.06-.94L8.5 2.5l-.94 2.06-2.06.94zm10 10l.94 2.06.94-2.06 2.06-.94-2.06-.94-.94-2.06-.94 2.06-2.06.94z\"/><path d=\"M17.41 7.96l-1.37-1.37c-.4-.4-.92-.59-1.43-.59-.52 0-1.04.2-1.43.59L10.3 9.45l-7.72 7.72c-.78.78-.78 2.05 0 2.83L4 21.41c.39.39.9.59 1.41.59.51 0 1.02-.2 1.41-.59l7.78-7.78 2.81-2.81c.8-.78.8-2.07 0-2.86zM5.41 20L4 18.59l7.72-7.72 1.47 1.35L5.41 20z\"/>\n",
              "  </svg>\n",
              "      </button>\n",
              "      \n",
              "  <style>\n",
              "    .colab-df-container {\n",
              "      display:flex;\n",
              "      flex-wrap:wrap;\n",
              "      gap: 12px;\n",
              "    }\n",
              "\n",
              "    .colab-df-convert {\n",
              "      background-color: #E8F0FE;\n",
              "      border: none;\n",
              "      border-radius: 50%;\n",
              "      cursor: pointer;\n",
              "      display: none;\n",
              "      fill: #1967D2;\n",
              "      height: 32px;\n",
              "      padding: 0 0 0 0;\n",
              "      width: 32px;\n",
              "    }\n",
              "\n",
              "    .colab-df-convert:hover {\n",
              "      background-color: #E2EBFA;\n",
              "      box-shadow: 0px 1px 2px rgba(60, 64, 67, 0.3), 0px 1px 3px 1px rgba(60, 64, 67, 0.15);\n",
              "      fill: #174EA6;\n",
              "    }\n",
              "\n",
              "    [theme=dark] .colab-df-convert {\n",
              "      background-color: #3B4455;\n",
              "      fill: #D2E3FC;\n",
              "    }\n",
              "\n",
              "    [theme=dark] .colab-df-convert:hover {\n",
              "      background-color: #434B5C;\n",
              "      box-shadow: 0px 1px 3px 1px rgba(0, 0, 0, 0.15);\n",
              "      filter: drop-shadow(0px 1px 2px rgba(0, 0, 0, 0.3));\n",
              "      fill: #FFFFFF;\n",
              "    }\n",
              "  </style>\n",
              "\n",
              "      <script>\n",
              "        const buttonEl =\n",
              "          document.querySelector('#df-75d5f254-2ae2-4c5e-8156-08449ef4d376 button.colab-df-convert');\n",
              "        buttonEl.style.display =\n",
              "          google.colab.kernel.accessAllowed ? 'block' : 'none';\n",
              "\n",
              "        async function convertToInteractive(key) {\n",
              "          const element = document.querySelector('#df-75d5f254-2ae2-4c5e-8156-08449ef4d376');\n",
              "          const dataTable =\n",
              "            await google.colab.kernel.invokeFunction('convertToInteractive',\n",
              "                                                     [key], {});\n",
              "          if (!dataTable) return;\n",
              "\n",
              "          const docLinkHtml = 'Like what you see? Visit the ' +\n",
              "            '<a target=\"_blank\" href=https://colab.research.google.com/notebooks/data_table.ipynb>data table notebook</a>'\n",
              "            + ' to learn more about interactive tables.';\n",
              "          element.innerHTML = '';\n",
              "          dataTable['output_type'] = 'display_data';\n",
              "          await google.colab.output.renderOutput(dataTable, element);\n",
              "          const docLink = document.createElement('div');\n",
              "          docLink.innerHTML = docLinkHtml;\n",
              "          element.appendChild(docLink);\n",
              "        }\n",
              "      </script>\n",
              "    </div>\n",
              "  </div>\n",
              "  "
            ]
          },
          "metadata": {},
          "execution_count": 60
        }
      ],
      "source": [
        "df_tech = pd.DataFrame({\n",
        "    \"report_year\": [2017, 2018, 2019, 2020, 2021, 2022],\n",
        "    \"non_binary\" : [np.nan, np.nan, np.nan, 0.002, 0.003, 0.006],\n",
        "    \"women\": [0.188, np.nan, 0.229, 0.232, 0.258, 0.29],\n",
        "    \"men\": [0.812, np.nan, 0.771, 0.765, 0.739, 0.704]\n",
        "})\n",
        "df_tech"
      ]
    },
    {
      "cell_type": "markdown",
      "source": [
        "## Let's bar chart this up!"
      ],
      "metadata": {
        "id": "wNw0EE-oTxDG"
      },
      "id": "wNw0EE-oTxDG"
    },
    {
      "cell_type": "code",
      "execution_count": null,
      "id": "19e09111",
      "metadata": {
        "id": "19e09111",
        "outputId": "f72ee017-58ab-4ede-f276-56fb837593e0",
        "colab": {
          "base_uri": "https://localhost:8080/",
          "height": 369
        }
      },
      "outputs": [
        {
          "output_type": "display_data",
          "data": {
            "text/plain": [
              "<Figure size 576x360 with 1 Axes>"
            ],
            "image/png": "[encoded data removed]"
          },
          "metadata": {
            "needs_background": "light"
          }
        }
      ],
      "source": [
        "labels = list(df_tech['report_year'])\n",
        "labels = list(map(str, labels))\n",
        "\n",
        "women_percentages = df_tech[\"women\"].values * 100\n",
        "non_binary_percentages = df_tech[\"non_binary\"].values * 100\n",
        "men_percentages = df_tech[\"men\"].values * 100\n",
        "\n",
        "x = np.arange(len(labels))  # the label locations\n",
        "width = 0.35  # the width of the bars\n",
        "\n",
        "fig, ax = plt.subplots(figsize=[8, 5])\n",
        "rects1 = ax.bar(x - width, non_binary_percentages, width=width, label='Non Binary', color='green')\n",
        "rects2 = ax.bar(x, women_percentages, width=width, label='Women', color='tab:blue')\n",
        "rects3 = ax.bar(x + width, men_percentages, width=width, label='Men', color='orange')\n",
        "\n",
        "# Add some text for labels, title and custom x-axis tick labels, etc.\n",
        "ax.set_ylabel('%')\n",
        "ax.set_title('Representation of genders in tech at Block globally')\n",
        "ax.set_xticks(x)\n",
        "ax.set_xticklabels(labels)\n",
        "ax.legend(bbox_to_anchor=(1, 1))\n",
        "\n",
        "if(matplotlib.__version__ >= \"3.4.0\"):\n",
        "  ax.bar_label(rects1, padding=3)\n",
        "  ax.bar_label(rects2, padding=3)\n",
        "else:\n",
        "  def autolabel(rects):\n",
        "      \"\"\"Attach a text label above each bar in *rects*, displaying its height.\"\"\"\n",
        "      for rect in rects:\n",
        "          height = rect.get_height()\n",
        "          ax.annotate(\"{:.1f}\".format(height),\n",
        "                      xy=(rect.get_x() + rect.get_width() / 2, height),\n",
        "                      xytext=(0, 3),  # 3 points vertical offset\n",
        "                      textcoords=\"offset points\",\n",
        "                      ha='center', va='bottom')\n",
        "\n",
        "\n",
        "  autolabel(rects1)\n",
        "  autolabel(rects2)\n",
        "\n",
        "fig.tight_layout()"
      ]
    },
    {
      "cell_type": "markdown",
      "source": [
        "## Find the line of best fit!\n",
        "\n",
        "This is a very simple prediction that assumes linear growth, and that is extrapolating far beyond the range of available data. Who knows, if we build enough momentum (having more women employees attracts more women employees), we might very well grow representation faster than linear!  … but there are always lots of hurdles we might encounter over the next decade as well.\n",
        "\n",
        "(This paragraph quoted from a colleague.)"
      ],
      "metadata": {
        "id": "vkCSRZN1eed0"
      },
      "id": "vkCSRZN1eed0"
    },
    {
      "cell_type": "code",
      "source": [
        "df_tech_no_nans = df_tech.dropna(subset=['women'])\n",
        "x = df_tech_no_nans[\"report_year\"].values\n",
        "y = df_tech_no_nans[\"women\"].values * 100\n",
        "(x,y)"
      ],
      "metadata": {
        "colab": {
          "base_uri": "https://localhost:8080/"
        },
        "id": "DG--jUWNzPoP",
        "outputId": "e212b8c0-399c-498d-e248-64587f61aeb2"
      },
      "id": "DG--jUWNzPoP",
      "execution_count": null,
      "outputs": [
        {
          "output_type": "execute_result",
          "data": {
            "text/plain": [
              "(array([2017, 2019, 2020, 2021, 2022]), array([18.8, 22.9, 23.2, 25.8, 29. ]))"
            ]
          },
          "metadata": {},
          "execution_count": 95
        }
      ]
    },
    {
      "cell_type": "code",
      "source": [
        "import statsmodels.api as sm\n",
        "\n",
        "fig, ax = plt.subplots(figsize=[8, 5])\n",
        "ax.scatter(x,y)\n",
        "ax.set_ylim(0,100)\n"
      ],
      "metadata": {
        "id": "qeWHzB-F1WIo",
        "outputId": "2b77fcd4-364a-4d38-93d5-f1e4a39d6052",
        "colab": {
          "base_uri": "https://localhost:8080/",
          "height": 341
        }
      },
      "id": "qeWHzB-F1WIo",
      "execution_count": null,
      "outputs": [
        {
          "output_type": "execute_result",
          "data": {
            "text/plain": [
              "(0.0, 100.0)"
            ]
          },
          "metadata": {},
          "execution_count": 96
        },
        {
          "output_type": "display_data",
          "data": {
            "text/plain": [
              "<Figure size 576x360 with 1 Axes>"
            ],
            "image/png": "[encoded data removed]"
          },
          "metadata": {
            "needs_background": "light"
          }
        }
      ]
    },
    {
      "cell_type": "code",
      "source": [
        "x_with_const = sm.add_constant(x)\n",
        "model = sm.OLS(y, x_with_const)\n",
        "results = model.fit()\n",
        "#print(results.summary())\n",
        "print(results.params)"
      ],
      "metadata": {
        "id": "Ty8sQYLW2JhG",
        "outputId": "deb59e68-664a-4c8f-fec0-bdc10d8c5432",
        "colab": {
          "base_uri": "https://localhost:8080/"
        }
      },
      "id": "Ty8sQYLW2JhG",
      "execution_count": null,
      "outputs": [
        {
          "output_type": "stream",
          "name": "stdout",
          "text": [
            "[-3.85735135e+03  1.92162162e+00]\n"
          ]
        }
      ]
    },
    {
      "cell_type": "markdown",
      "source": [
        "The first parameter is where the line crosses the y axis (so we had -3329% of women at the year 0) and the second parameter is the gradient (so we currently gain 1.66% representation of women a year)."
      ],
      "metadata": {
        "id": "kowak7FOC79w"
      },
      "id": "kowak7FOC79w"
    },
    {
      "cell_type": "code",
      "source": [
        "# when do we reach balanced representation of women? Advice from a colleague: \"Since we don't know how much of the population will choose to come out as nonbinary\n",
        "# we can consider women genderbalanced with men when both groups are of equal amount (regardless of what that amount is).\"\"\n",
        "#\n",
        "# For speculation, assuming a women=men percentage of 48%, when would we reach that?\n",
        "x_women_balanced = (48 - results.params[0])/results.params[1]\n",
        "x_women_balanced"
      ],
      "metadata": {
        "id": "nSt0IARsF8lG",
        "colab": {
          "base_uri": "https://localhost:8080/"
        },
        "outputId": "04767004-26e4-4578-c3f4-bfeb34d0c294"
      },
      "id": "nSt0IARsF8lG",
      "execution_count": 110,
      "outputs": [
        {
          "output_type": "execute_result",
          "data": {
            "text/plain": [
              "2032.3206751054868"
            ]
          },
          "metadata": {},
          "execution_count": 110
        }
      ]
    },
    {
      "cell_type": "code",
      "source": [
        "x2 = np.linspace(2016, 2070)\n",
        "y2 = x2 * results.params[1] + results.params[0] \n",
        "\n",
        "fig, ax = plt.subplots(figsize=[8, 5])\n",
        "ax.scatter(x,y)\n",
        "ax.set(ylim=(0, 100))\n",
        "ax.plot(x2, y2)\n",
        "ax.axhline(y=49, color='r', linestyle='-')\n",
        "ax.scatter([2032.84],[49])\n",
        "ax.text(2033,44,'(2032.32,48%)')\n",
        "plt.show()"
      ],
      "metadata": {
        "id": "W9DBuVetA_Kv",
        "outputId": "0e71c6de-b943-4890-953f-6926c00f9096",
        "colab": {
          "base_uri": "https://localhost:8080/",
          "height": 324
        }
      },
      "id": "W9DBuVetA_Kv",
      "execution_count": 112,
      "outputs": [
        {
          "output_type": "display_data",
          "data": {
            "text/plain": [
              "<Figure size 576x360 with 1 Axes>"
            ],
            "image/png": "[encoded data removed]"
          },
          "metadata": {
            "needs_background": "light"
          }
        }
      ]
    },
    {
      "cell_type": "code",
      "source": [],
      "metadata": {
        "id": "fzyee34tIX4N"
      },
      "id": "fzyee34tIX4N",
      "execution_count": null,
      "outputs": []
    }
  ],
  "metadata": {
    "kernelspec": {
      "display_name": "Python 3 (ipykernel)",
      "language": "python",
      "name": "python3"
    },
    "language_info": {
      "codemirror_mode": {
        "name": "ipython",
        "version": 3
      },
      "file_extension": ".py",
      "mimetype": "text/x-python",
      "name": "python",
      "nbconvert_exporter": "python",
      "pygments_lexer": "ipython3",
      "version": "3.8.0"
    },
    "colab": {
      "name": "block_dei_display.ipynb",
      "provenance": [],
      "include_colab_link": true
    }
  },
  "nbformat": 4,
  "nbformat_minor": 5
}