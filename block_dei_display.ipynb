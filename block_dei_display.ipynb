{
  "cells": [
    {
      "cell_type": "markdown",
      "metadata": {
        "id": "view-in-github",
        "colab_type": "text"
      },
      "source": [
        "<a href=\"https://colab.research.google.com/github/duanasq/learning-ds-public/blob/main/block_dei_display.ipynb\" target=\"_parent\"><img src=\"https://colab.research.google.com/assets/colab-badge.svg\" alt=\"Open In Colab\"/></a>"
      ]
    },
    {
      "cell_type": "markdown",
      "id": "7eca8284",
      "metadata": {
        "id": "7eca8284"
      },
      "source": [
        "## Visualising representation of genders in tech from Block's public data\n",
        "\n",
        "See: https://squareup.com/us/en/about/diversity/archive\n",
        "\n",
        "Datasource: Data was crafted by hand by scraping the following URLs\n",
        "- https://squareup.com/us/en/about/diversity/workforce-data-2021\n",
        "- https://squareup.com/us/en/about/diversity/archive/workforce-data-2020\n",
        "- 2018 is missing\n",
        "- https://squareup.com/us/en/about/diversity/archive/workforce-data-2019\n",
        "- https://squareup.com/us/en/about/diversity/archive/workforce-data-2017\n",
        "\n"
      ]
    },
    {
      "cell_type": "code",
      "execution_count": 9,
      "id": "e32e25d3",
      "metadata": {
        "id": "e32e25d3"
      },
      "outputs": [],
      "source": [
        "import numpy as np\n",
        "import pandas as pd\n",
        "import json\n",
        "import matplotlib\n",
        "import matplotlib.pyplot as plt"
      ]
    },
    {
      "cell_type": "code",
      "execution_count": 5,
      "id": "2a80eda4",
      "metadata": {
        "id": "2a80eda4",
        "outputId": "37b8c184-401f-4a6e-b549-f66d98346454",
        "colab": {
          "base_uri": "https://localhost:8080/",
          "height": 206
        }
      },
      "outputs": [
        {
          "output_type": "execute_result",
          "data": {
            "text/plain": [
              "  report_year  non_binary  women    men\n",
              "0        2017         NaN  0.188  0.812\n",
              "1        2018         NaN    NaN    NaN\n",
              "2        2019         NaN  0.229  0.771\n",
              "3        2020       0.002  0.232  0.765\n",
              "4        2021       0.003  0.258  0.739"
            ],
            "text/html": [
              "\n",
              "  <div id=\"df-46fc87ee-8958-46b3-a63b-3e7082f131d5\">\n",
              "    <div class=\"colab-df-container\">\n",
              "      <div>\n",
              "<style scoped>\n",
              "    .dataframe tbody tr th:only-of-type {\n",
              "        vertical-align: middle;\n",
              "    }\n",
              "\n",
              "    .dataframe tbody tr th {\n",
              "        vertical-align: top;\n",
              "    }\n",
              "\n",
              "    .dataframe thead th {\n",
              "        text-align: right;\n",
              "    }\n",
              "</style>\n",
              "<table border=\"1\" class=\"dataframe\">\n",
              "  <thead>\n",
              "    <tr style=\"text-align: right;\">\n",
              "      <th></th>\n",
              "      <th>report_year</th>\n",
              "      <th>non_binary</th>\n",
              "      <th>women</th>\n",
              "      <th>men</th>\n",
              "    </tr>\n",
              "  </thead>\n",
              "  <tbody>\n",
              "    <tr>\n",
              "      <th>0</th>\n",
              "      <td>2017</td>\n",
              "      <td>NaN</td>\n",
              "      <td>0.188</td>\n",
              "      <td>0.812</td>\n",
              "    </tr>\n",
              "    <tr>\n",
              "      <th>1</th>\n",
              "      <td>2018</td>\n",
              "      <td>NaN</td>\n",
              "      <td>NaN</td>\n",
              "      <td>NaN</td>\n",
              "    </tr>\n",
              "    <tr>\n",
              "      <th>2</th>\n",
              "      <td>2019</td>\n",
              "      <td>NaN</td>\n",
              "      <td>0.229</td>\n",
              "      <td>0.771</td>\n",
              "    </tr>\n",
              "    <tr>\n",
              "      <th>3</th>\n",
              "      <td>2020</td>\n",
              "      <td>0.002</td>\n",
              "      <td>0.232</td>\n",
              "      <td>0.765</td>\n",
              "    </tr>\n",
              "    <tr>\n",
              "      <th>4</th>\n",
              "      <td>2021</td>\n",
              "      <td>0.003</td>\n",
              "      <td>0.258</td>\n",
              "      <td>0.739</td>\n",
              "    </tr>\n",
              "  </tbody>\n",
              "</table>\n",
              "</div>\n",
              "      <button class=\"colab-df-convert\" onclick=\"convertToInteractive('df-46fc87ee-8958-46b3-a63b-3e7082f131d5')\"\n",
              "              title=\"Convert this dataframe to an interactive table.\"\n",
              "              style=\"display:none;\">\n",
              "        \n",
              "  <svg xmlns=\"http://www.w3.org/2000/svg\" height=\"24px\"viewBox=\"0 0 24 24\"\n",
              "       width=\"24px\">\n",
              "    <path d=\"M0 0h24v24H0V0z\" fill=\"none\"/>\n",
              "    <path d=\"M18.56 5.44l.94 2.06.94-2.06 2.06-.94-2.06-.94-.94-2.06-.94 2.06-2.06.94zm-11 1L8.5 8.5l.94-2.06 2.06-.94-2.06-.94L8.5 2.5l-.94 2.06-2.06.94zm10 10l.94 2.06.94-2.06 2.06-.94-2.06-.94-.94-2.06-.94 2.06-2.06.94z\"/><path d=\"M17.41 7.96l-1.37-1.37c-.4-.4-.92-.59-1.43-.59-.52 0-1.04.2-1.43.59L10.3 9.45l-7.72 7.72c-.78.78-.78 2.05 0 2.83L4 21.41c.39.39.9.59 1.41.59.51 0 1.02-.2 1.41-.59l7.78-7.78 2.81-2.81c.8-.78.8-2.07 0-2.86zM5.41 20L4 18.59l7.72-7.72 1.47 1.35L5.41 20z\"/>\n",
              "  </svg>\n",
              "      </button>\n",
              "      \n",
              "  <style>\n",
              "    .colab-df-container {\n",
              "      display:flex;\n",
              "      flex-wrap:wrap;\n",
              "      gap: 12px;\n",
              "    }\n",
              "\n",
              "    .colab-df-convert {\n",
              "      background-color: #E8F0FE;\n",
              "      border: none;\n",
              "      border-radius: 50%;\n",
              "      cursor: pointer;\n",
              "      display: none;\n",
              "      fill: #1967D2;\n",
              "      height: 32px;\n",
              "      padding: 0 0 0 0;\n",
              "      width: 32px;\n",
              "    }\n",
              "\n",
              "    .colab-df-convert:hover {\n",
              "      background-color: #E2EBFA;\n",
              "      box-shadow: 0px 1px 2px rgba(60, 64, 67, 0.3), 0px 1px 3px 1px rgba(60, 64, 67, 0.15);\n",
              "      fill: #174EA6;\n",
              "    }\n",
              "\n",
              "    [theme=dark] .colab-df-convert {\n",
              "      background-color: #3B4455;\n",
              "      fill: #D2E3FC;\n",
              "    }\n",
              "\n",
              "    [theme=dark] .colab-df-convert:hover {\n",
              "      background-color: #434B5C;\n",
              "      box-shadow: 0px 1px 3px 1px rgba(0, 0, 0, 0.15);\n",
              "      filter: drop-shadow(0px 1px 2px rgba(0, 0, 0, 0.3));\n",
              "      fill: #FFFFFF;\n",
              "    }\n",
              "  </style>\n",
              "\n",
              "      <script>\n",
              "        const buttonEl =\n",
              "          document.querySelector('#df-46fc87ee-8958-46b3-a63b-3e7082f131d5 button.colab-df-convert');\n",
              "        buttonEl.style.display =\n",
              "          google.colab.kernel.accessAllowed ? 'block' : 'none';\n",
              "\n",
              "        async function convertToInteractive(key) {\n",
              "          const element = document.querySelector('#df-46fc87ee-8958-46b3-a63b-3e7082f131d5');\n",
              "          const dataTable =\n",
              "            await google.colab.kernel.invokeFunction('convertToInteractive',\n",
              "                                                     [key], {});\n",
              "          if (!dataTable) return;\n",
              "\n",
              "          const docLinkHtml = 'Like what you see? Visit the ' +\n",
              "            '<a target=\"_blank\" href=https://colab.research.google.com/notebooks/data_table.ipynb>data table notebook</a>'\n",
              "            + ' to learn more about interactive tables.';\n",
              "          element.innerHTML = '';\n",
              "          dataTable['output_type'] = 'display_data';\n",
              "          await google.colab.output.renderOutput(dataTable, element);\n",
              "          const docLink = document.createElement('div');\n",
              "          docLink.innerHTML = docLinkHtml;\n",
              "          element.appendChild(docLink);\n",
              "        }\n",
              "      </script>\n",
              "    </div>\n",
              "  </div>\n",
              "  "
            ]
          },
          "metadata": {},
          "execution_count": 5
        }
      ],
      "source": [
        "df_tech = pd.DataFrame({\n",
        "    \"report_year\": [\"2017\", \"2018\", \"2019\", \"2020\", \"2021\"],\n",
        "    \"non_binary\" : [np.nan, np.nan, np.nan, 0.002, 0.003],\n",
        "    \"women\": [0.188, np.nan, 0.229, 0.232, 0.258],\n",
        "    \"men\": [0.812, np.nan, 0.771, 0.765, 0.739]\n",
        "})\n",
        "df_tech"
      ]
    },
    {
      "cell_type": "code",
      "execution_count": 25,
      "id": "19e09111",
      "metadata": {
        "id": "19e09111",
        "outputId": "f85f3b9c-6c62-4574-95e7-e162f80f191a",
        "colab": {
          "base_uri": "https://localhost:8080/",
          "height": 369
        }
      },
      "outputs": [
        {
          "output_type": "display_data",
          "data": {
            "text/plain": [
              "<Figure size 576x360 with 1 Axes>"
            ],
            "image/png": "[encoded data removed]"
          },
          "metadata": {
            "needs_background": "light"
          }
        }
      ],
      "source": [
        "labels = list(df_tech['report_year'])\n",
        "labels = list(map(str, labels))\n",
        "\n",
        "women_percentages = df_tech[\"women\"].values * 100\n",
        "non_binary_percentages = df_tech[\"non_binary\"].values * 100\n",
        "men_percentages = df_tech[\"men\"].values * 100\n",
        "\n",
        "x = np.arange(len(labels))  # the label locations\n",
        "width = 0.35  # the width of the bars\n",
        "\n",
        "fig, ax = plt.subplots(figsize=[8, 5])\n",
        "rects1 = ax.bar(x - width, non_binary_percentages, width=width, label='Non Binary', color='green')\n",
        "rects2 = ax.bar(x, women_percentages, width=width, label='Women', color='tab:blue')\n",
        "rects3 = ax.bar(x + width, men_percentages, width=width, label='Men', color='orange')\n",
        "\n",
        "# Add some text for labels, title and custom x-axis tick labels, etc.\n",
        "ax.set_ylabel('%')\n",
        "ax.set_title('Representation of genders in tech at Block globally')\n",
        "ax.set_xticks(x)\n",
        "ax.set_xticklabels(labels)\n",
        "ax.legend(bbox_to_anchor=(1, 1))\n",
        "\n",
        "if(matplotlib.__version__ >= \"3.4.0\"):\n",
        "  ax.bar_label(rects1, padding=3)\n",
        "  ax.bar_label(rects2, padding=3)\n",
        "else:\n",
        "  def autolabel(rects):\n",
        "      \"\"\"Attach a text label above each bar in *rects*, displaying its height.\"\"\"\n",
        "      for rect in rects:\n",
        "          height = rect.get_height()\n",
        "          ax.annotate(\"{:.1f}\".format(height),\n",
        "                      xy=(rect.get_x() + rect.get_width() / 2, height),\n",
        "                      xytext=(0, 3),  # 3 points vertical offset\n",
        "                      textcoords=\"offset points\",\n",
        "                      ha='center', va='bottom')\n",
        "\n",
        "\n",
        "  autolabel(rects1)\n",
        "  autolabel(rects2)\n",
        "\n",
        "fig.tight_layout()"
      ]
    },
    {
      "cell_type": "code",
      "source": [
        "# print scatter plot of (x, y)\n",
        "\n",
        "women_percentages.filter(lambda val: val != NaN)"
      ],
      "metadata": {
        "id": "dlB3C6TLwFkz",
        "outputId": "a396f616-82e4-4b4b-8e85-c9da7bd4effe",
        "colab": {
          "base_uri": "https://localhost:8080/",
          "height": 203
        }
      },
      "id": "dlB3C6TLwFkz",
      "execution_count": 27,
      "outputs": [
        {
          "output_type": "error",
          "ename": "AttributeError",
          "evalue": "ignored",
          "traceback": [
            "\u001b[0;31m---------------------------------------------------------------------------\u001b[0m",
            "\u001b[0;31mAttributeError\u001b[0m                            Traceback (most recent call last)",
            "\u001b[0;32m<ipython-input-27-2cc47ab6eedb>\u001b[0m in \u001b[0;36m<module>\u001b[0;34m()\u001b[0m\n\u001b[1;32m      1\u001b[0m \u001b[0;31m# print scatter plot of (x, y)\u001b[0m\u001b[0;34m\u001b[0m\u001b[0;34m\u001b[0m\u001b[0;34m\u001b[0m\u001b[0m\n\u001b[1;32m      2\u001b[0m \u001b[0;34m\u001b[0m\u001b[0m\n\u001b[0;32m----> 3\u001b[0;31m \u001b[0mwomen_percentages\u001b[0m\u001b[0;34m.\u001b[0m\u001b[0mfilter\u001b[0m\u001b[0;34m(\u001b[0m\u001b[0;32mlambda\u001b[0m \u001b[0mval\u001b[0m\u001b[0;34m:\u001b[0m \u001b[0mval\u001b[0m \u001b[0;34m!=\u001b[0m \u001b[0mNaN\u001b[0m\u001b[0;34m)\u001b[0m\u001b[0;34m\u001b[0m\u001b[0;34m\u001b[0m\u001b[0m\n\u001b[0m",
            "\u001b[0;31mAttributeError\u001b[0m: 'numpy.ndarray' object has no attribute 'filter'"
          ]
        }
      ]
    },
    {
      "cell_type": "code",
      "source": [
        "import statsmodels.api as sm\n",
        "\n",
        "x = np.array([1,3,4,5]).reshape(-1,1)\n",
        "\n",
        "y = np.array([18.8,22.9,23.2,25.8])\n",
        "\n",
        "fig, ax = plt.subplots(figsize=[8, 5])\n",
        "ax.scatter(x,y)\n",
        "ax.set_ylim(0,100)\n",
        "ax.set_xlim(0,6)\n",
        "\n"
      ],
      "metadata": {
        "id": "qeWHzB-F1WIo",
        "outputId": "e80a49a9-badc-47d0-b712-b116a24685f4",
        "colab": {
          "base_uri": "https://localhost:8080/",
          "height": 341
        }
      },
      "id": "qeWHzB-F1WIo",
      "execution_count": 83,
      "outputs": [
        {
          "output_type": "execute_result",
          "data": {
            "text/plain": [
              "(0.0, 6.0)"
            ]
          },
          "metadata": {},
          "execution_count": 83
        },
        {
          "output_type": "display_data",
          "data": {
            "text/plain": [
              "<Figure size 576x360 with 1 Axes>"
            ],
            "image/png": "[encoded data removed]"
          },
          "metadata": {
            "needs_background": "light"
          }
        }
      ]
    },
    {
      "cell_type": "code",
      "source": [
        "x_with_const = sm.add_constant(x)\n",
        "model = sm.OLS(y, x_with_const)\n",
        "results = model.fit()\n",
        "print(results.summary())\n",
        "print(results.params)"
      ],
      "metadata": {
        "id": "Ty8sQYLW2JhG",
        "outputId": "833856c1-0af5-4143-8963-fbaf6a36ad7a",
        "colab": {
          "base_uri": "https://localhost:8080/"
        }
      },
      "id": "Ty8sQYLW2JhG",
      "execution_count": 84,
      "outputs": [
        {
          "output_type": "stream",
          "name": "stdout",
          "text": [
            "                            OLS Regression Results                            \n",
            "==============================================================================\n",
            "Dep. Variable:                      y   R-squared:                       0.960\n",
            "Model:                            OLS   Adj. R-squared:                  0.940\n",
            "Method:                 Least Squares   F-statistic:                     48.42\n",
            "Date:                Sun, 17 Apr 2022   Prob (F-statistic):             0.0200\n",
            "Time:                        10:29:35   Log-Likelihood:                -2.8951\n",
            "No. Observations:                   4   AIC:                             9.790\n",
            "Df Residuals:                       2   BIC:                             8.563\n",
            "Df Model:                           1                                         \n",
            "Covariance Type:            nonrobust                                         \n",
            "==============================================================================\n",
            "                 coef    std err          t      P>|t|      [0.025      0.975]\n",
            "------------------------------------------------------------------------------\n",
            "const         17.2800      0.852     20.285      0.002      13.615      20.945\n",
            "x1             1.6600      0.239      6.958      0.020       0.634       2.686\n",
            "==============================================================================\n",
            "Omnibus:                          nan   Durbin-Watson:                   3.355\n",
            "Prob(Omnibus):                    nan   Jarque-Bera (JB):                0.280\n",
            "Skew:                          -0.208   Prob(JB):                        0.869\n",
            "Kurtosis:                       1.771   Cond. No.                         9.19\n",
            "==============================================================================\n",
            "\n",
            "Warnings:\n",
            "[1] Standard Errors assume that the covariance matrix of the errors is correctly specified.\n",
            "[17.28  1.66]\n"
          ]
        },
        {
          "output_type": "stream",
          "name": "stderr",
          "text": [
            "/usr/local/lib/python3.7/dist-packages/statsmodels/stats/stattools.py:71: ValueWarning: omni_normtest is not valid with less than 8 observations; 4 samples were given.\n",
            "  \"samples were given.\" % int(n), ValueWarning)\n"
          ]
        }
      ]
    },
    {
      "cell_type": "code",
      "source": [
        "x2 = np.linspace(0, 6, 7)\n",
        "y2 = x2 * results.params[1] + results.params[0] \n",
        "\n",
        "fig, ax = plt.subplots(figsize=[8, 5])\n",
        "ax.scatter(x,y)\n",
        "ax.set(xlim=(0, 6), xticks=np.arange(7),\n",
        "       ylim=(0, 100))\n",
        "ax.plot(x2, y2)\n",
        "plt.show()"
      ],
      "metadata": {
        "id": "W9DBuVetA_Kv",
        "outputId": "259a21c2-e1b8-412d-d6a9-a2409706ee8f",
        "colab": {
          "base_uri": "https://localhost:8080/",
          "height": 324
        }
      },
      "id": "W9DBuVetA_Kv",
      "execution_count": 85,
      "outputs": [
        {
          "output_type": "display_data",
          "data": {
            "text/plain": [
              "<Figure size 576x360 with 1 Axes>"
            ],
            "image/png": "[encoded data removed]"
          },
          "metadata": {
            "needs_background": "light"
          }
        }
      ]
    },
    {
      "cell_type": "code",
      "source": [
        "(50-25.8)/1.66"
      ],
      "metadata": {
        "id": "dYpr_VLZBQGl",
        "outputId": "466cd2d1-7f71-4e94-af35-c85c54051d70",
        "colab": {
          "base_uri": "https://localhost:8080/"
        }
      },
      "id": "dYpr_VLZBQGl",
      "execution_count": 80,
      "outputs": [
        {
          "output_type": "execute_result",
          "data": {
            "text/plain": [
              "14.578313253012048"
            ]
          },
          "metadata": {},
          "execution_count": 80
        }
      ]
    },
    {
      "cell_type": "code",
      "source": [
        "0*18.8+2*22.9+3*23.2+4*25.8"
      ],
      "metadata": {
        "id": "6qdJBtzLD1aO",
        "outputId": "05e6f567-cba4-42ca-b479-965133f867d8",
        "colab": {
          "base_uri": "https://localhost:8080/"
        }
      },
      "id": "6qdJBtzLD1aO",
      "execution_count": 87,
      "outputs": [
        {
          "output_type": "execute_result",
          "data": {
            "text/plain": [
              "218.6"
            ]
          },
          "metadata": {},
          "execution_count": 87
        }
      ]
    },
    {
      "cell_type": "code",
      "source": [
        "(218.6 - 9*90.7/4) / (29-81/4)\n"
      ],
      "metadata": {
        "id": "Wl6KKYJwEwku",
        "outputId": "11bd758a-77ad-49eb-f477-a2b6caf6b936",
        "colab": {
          "base_uri": "https://localhost:8080/"
        }
      },
      "id": "Wl6KKYJwEwku",
      "execution_count": 91,
      "outputs": [
        {
          "output_type": "execute_result",
          "data": {
            "text/plain": [
              "1.6599999999999975"
            ]
          },
          "metadata": {},
          "execution_count": 91
        }
      ]
    },
    {
      "cell_type": "code",
      "source": [
        "90.7/4 - 9*1.66/4"
      ],
      "metadata": {
        "id": "eBueotA2Feto",
        "outputId": "3634b2a4-8e02-47bb-d1c1-2b3d655e9766",
        "colab": {
          "base_uri": "https://localhost:8080/"
        }
      },
      "id": "eBueotA2Feto",
      "execution_count": 92,
      "outputs": [
        {
          "output_type": "execute_result",
          "data": {
            "text/plain": [
              "18.94"
            ]
          },
          "metadata": {},
          "execution_count": 92
        }
      ]
    },
    {
      "cell_type": "code",
      "source": [
        ""
      ],
      "metadata": {
        "id": "nSt0IARsF8lG"
      },
      "id": "nSt0IARsF8lG",
      "execution_count": null,
      "outputs": []
    }
  ],
  "metadata": {
    "kernelspec": {
      "display_name": "Python 3 (ipykernel)",
      "language": "python",
      "name": "python3"
    },
    "language_info": {
      "codemirror_mode": {
        "name": "ipython",
        "version": 3
      },
      "file_extension": ".py",
      "mimetype": "text/x-python",
      "name": "python",
      "nbconvert_exporter": "python",
      "pygments_lexer": "ipython3",
      "version": "3.8.0"
    },
    "colab": {
      "name": "block_dei_display.ipynb",
      "provenance": [],
      "include_colab_link": true
    }
  },
  "nbformat": 4,
  "nbformat_minor": 5
}