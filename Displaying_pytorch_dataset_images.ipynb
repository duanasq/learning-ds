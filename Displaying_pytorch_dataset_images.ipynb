{
  "nbformat": 4,
  "nbformat_minor": 0,
  "metadata": {
    "colab": {
      "provenance": [],
      "collapsed_sections": [],
      "authorship_tag": "ABX9TyOiUG97lpcQYnv/2WZdvYUV",
      "include_colab_link": true
    },
    "kernelspec": {
      "name": "python3",
      "display_name": "Python 3"
    },
    "language_info": {
      "name": "python"
    }
  },
  "cells": [
    {
      "cell_type": "markdown",
      "metadata": {
        "id": "view-in-github",
        "colab_type": "text"
      },
      "source": [
        "<a href=\"https://colab.research.google.com/github/duanasq/learning-ds-public/blob/main/Displaying_pytorch_dataset_images.ipynb\" target=\"_parent\"><img src=\"https://colab.research.google.com/assets/colab-badge.svg\" alt=\"Open In Colab\"/></a>"
      ]
    },
    {
      "cell_type": "markdown",
      "source": [
        "I just wanted to display a sample image from the [CIFAR](https://www.cs.toronto.edu/~kriz/cifar.html) dataset that comes bundled in torchvision. I got it working, but it was not easy. \n",
        "\n",
        "I'll show you the working code first. Then I'll give you the explanation."
      ],
      "metadata": {
        "id": "vwB1df0Gozt1"
      }
    },
    {
      "cell_type": "code",
      "execution_count": 47,
      "metadata": {
        "id": "HKA_PbwToxf1"
      },
      "outputs": [],
      "source": [
        "import numpy as np\n",
        "import torch\n",
        "from torchvision import datasets\n",
        "from torchvision import transforms\n",
        "import matplotlib.pyplot as plt\n",
        "import matplotlib.image as mpimg"
      ]
    },
    {
      "cell_type": "code",
      "source": [
        "# Download the dataset and transform images to tensors\n",
        "cifar_ds = datasets.CIFAR10(\n",
        "    root='./data', train=True,\n",
        "    download=True,\n",
        "    transform=transforms.ToTensor()\n",
        ")"
      ],
      "metadata": {
        "colab": {
          "base_uri": "https://localhost:8080/"
        },
        "id": "2jviawpopwhF",
        "outputId": "2a1977fa-ec4b-4375-e9ee-ae5334b981a3"
      },
      "execution_count": 48,
      "outputs": [
        {
          "output_type": "stream",
          "name": "stdout",
          "text": [
            "Files already downloaded and verified\n"
          ]
        }
      ]
    },
    {
      "cell_type": "code",
      "source": [
        "# define a function that first transposes the image, then displays it\n",
        "# src: https://github.com/pytorch/tutorials/blob/master/beginner_source/blitz/cifar10_tutorial.py\n",
        "def imshow(img):\n",
        "    npimg = img.numpy()\n",
        "    plt.imshow(np.transpose(npimg, (1, 2, 0)))\n",
        "    plt.show()"
      ],
      "metadata": {
        "id": "1GikzaA4s9nf"
      },
      "execution_count": 49,
      "outputs": []
    },
    {
      "cell_type": "code",
      "source": [
        "# choose a random index and retrieve a sample, then display it with our custom function\n",
        "sample_idx = torch.randint(len(cifar_ds), size=(1,)).item()\n",
        "img, label = cifar_ds[sample_idx]\n",
        "\n",
        "imshow(img)\n"
      ],
      "metadata": {
        "colab": {
          "base_uri": "https://localhost:8080/",
          "height": 266
        },
        "id": "W_oqzkC4zN5Y",
        "outputId": "5de28e91-2e89-4027-8853-a0ecfa2cca4f"
      },
      "execution_count": 50,
      "outputs": [
        {
          "output_type": "display_data",
          "data": {
            "text/plain": [
              "<Figure size 432x288 with 1 Axes>"
            ],
            "image/png": "[encoded data removed]"
          },
          "metadata": {
            "needs_background": "light"
          }
        }
      ]
    },
    {
      "cell_type": "markdown",
      "source": [
        "Alright time for some explanation. Let's re-retrieve the CIFAR dataset but let's not apply the ToTensor() transform so you can see what type the images are by default. They are [PIL or Pillow Images](https://pillow.readthedocs.io/en/stable/reference/Image.html). Matplotlib uses the Pillow library, so it can display PIL images."
      ],
      "metadata": {
        "id": "0-9HGud_pTsn"
      }
    },
    {
      "cell_type": "code",
      "source": [
        "cifar_ds = datasets.CIFAR10(\n",
        "    root='./data', train=True,\n",
        "    download=True,\n",
        "    # transform=transforms.ToTensor()\n",
        ")\n",
        "\n",
        "sample_idx = torch.randint(len(cifar_ds), size=(1,)).item()\n",
        "img, label = cifar_ds[sample_idx]\n",
        "print(type(img))\n",
        "plt.imshow(img)"
      ],
      "metadata": {
        "colab": {
          "base_uri": "https://localhost:8080/",
          "height": 318
        },
        "id": "KmqsfQbbpNU_",
        "outputId": "7687ea65-f49e-4a7c-fe24-b4907d9df593"
      },
      "execution_count": 51,
      "outputs": [
        {
          "output_type": "stream",
          "name": "stdout",
          "text": [
            "Files already downloaded and verified\n",
            "<class 'PIL.Image.Image'>\n"
          ]
        },
        {
          "output_type": "execute_result",
          "data": {
            "text/plain": [
              "<matplotlib.image.AxesImage at 0x7f658dd0a2d0>"
            ]
          },
          "metadata": {},
          "execution_count": 51
        },
        {
          "output_type": "display_data",
          "data": {
            "text/plain": [
              "<Figure size 432x288 with 1 Axes>"
            ],
            "image/png": "[encoded data removed]"
          },
          "metadata": {
            "needs_background": "light"
          }
        }
      ]
    },
    {
      "cell_type": "markdown",
      "source": [
        "Let's re-retrieve the dataset applying the ToTensor() transform again, but now look at the shape of the tensors. It's not what I expected."
      ],
      "metadata": {
        "id": "9v3vPaJquTj1"
      }
    },
    {
      "cell_type": "code",
      "source": [
        "cifar_ds = datasets.CIFAR10(\n",
        "    root='./data', train=True,\n",
        "    download=True,\n",
        "    transform=transforms.ToTensor()\n",
        ")\n",
        "\n",
        "sample_idx = torch.randint(len(cifar_ds), size=(1,)).item()\n",
        "img, label = cifar_ds[sample_idx]\n",
        "print(type(img))\n",
        "print(img.shape)\n",
        "print(img)"
      ],
      "metadata": {
        "colab": {
          "base_uri": "https://localhost:8080/"
        },
        "outputId": "1d0111ef-5e38-47c3-f86b-d95820594688",
        "id": "wDC02G_yqdBL"
      },
      "execution_count": 52,
      "outputs": [
        {
          "output_type": "stream",
          "name": "stdout",
          "text": [
            "Files already downloaded and verified\n",
            "<class 'torch.Tensor'>\n",
            "torch.Size([3, 32, 32])\n",
            "tensor([[[0.6588, 0.7020, 0.7608,  ..., 0.7216, 0.7294, 0.7059],\n",
            "         [0.8118, 0.8824, 0.9451,  ..., 0.7451, 0.7333, 0.7059],\n",
            "         [0.9765, 0.9922, 1.0000,  ..., 0.7333, 0.7098, 0.6784],\n",
            "         ...,\n",
            "         [0.6510, 0.6588, 0.6667,  ..., 0.6392, 0.6118, 0.5765],\n",
            "         [0.6431, 0.6549, 0.6627,  ..., 0.6392, 0.6235, 0.5922],\n",
            "         [0.6353, 0.6549, 0.6706,  ..., 0.6353, 0.6275, 0.6118]],\n",
            "\n",
            "        [[0.6353, 0.6706, 0.7255,  ..., 0.6784, 0.6824, 0.6588],\n",
            "         [0.7804, 0.8471, 0.8980,  ..., 0.6863, 0.6745, 0.6510],\n",
            "         [0.9294, 0.9451, 0.9529,  ..., 0.6745, 0.6471, 0.6196],\n",
            "         ...,\n",
            "         [0.5882, 0.5961, 0.6000,  ..., 0.6000, 0.5647, 0.5216],\n",
            "         [0.5843, 0.5922, 0.6000,  ..., 0.6078, 0.5922, 0.5569],\n",
            "         [0.5843, 0.6000, 0.6118,  ..., 0.6078, 0.5961, 0.5804]],\n",
            "\n",
            "        [[0.6078, 0.6392, 0.6941,  ..., 0.5765, 0.5922, 0.5765],\n",
            "         [0.7333, 0.7922, 0.8314,  ..., 0.5765, 0.5686, 0.5529],\n",
            "         [0.8745, 0.8824, 0.8745,  ..., 0.5608, 0.5412, 0.5216],\n",
            "         ...,\n",
            "         [0.5098, 0.5137, 0.5176,  ..., 0.5412, 0.5059, 0.4471],\n",
            "         [0.5176, 0.5216, 0.5294,  ..., 0.5529, 0.5451, 0.5059],\n",
            "         [0.5216, 0.5333, 0.5490,  ..., 0.5490, 0.5529, 0.5373]]])\n"
          ]
        }
      ]
    },
    {
      "cell_type": "markdown",
      "source": [
        "The shape of the tensor is [3, 32, 32]. CIFAR images are 32x32 RGB images, so I was expecting the shape of the tensor to be [32, 32, 3]. I don't know why it isn't, but it matlabplot can't display it like that. For an RGB image, matlabplot expects the 3rd dimension to be the RGB values. So that's why we have to define the custom `imshow` function which does the transpose of the tensor.\n",
        "\n",
        "\n"
      ],
      "metadata": {
        "id": "ijlIh0IxqvUp"
      }
    },
    {
      "cell_type": "code",
      "source": [
        "# this will error\n",
        "plt.imshow(img)"
      ],
      "metadata": {
        "colab": {
          "base_uri": "https://localhost:8080/",
          "height": 581
        },
        "id": "ObwBf43DqiE8",
        "outputId": "ce5c2183-3f14-40fb-ca69-7926165b94ea"
      },
      "execution_count": 53,
      "outputs": [
        {
          "output_type": "error",
          "ename": "TypeError",
          "evalue": "ignored",
          "traceback": [
            "\u001b[0;31m---------------------------------------------------------------------------\u001b[0m",
            "\u001b[0;31mTypeError\u001b[0m                                 Traceback (most recent call last)",
            "\u001b[0;32m<ipython-input-53-49bedd5e563f>\u001b[0m in \u001b[0;36m<module>\u001b[0;34m\u001b[0m\n\u001b[1;32m      1\u001b[0m \u001b[0;31m# this will error\u001b[0m\u001b[0;34m\u001b[0m\u001b[0;34m\u001b[0m\u001b[0;34m\u001b[0m\u001b[0m\n\u001b[0;32m----> 2\u001b[0;31m \u001b[0mplt\u001b[0m\u001b[0;34m.\u001b[0m\u001b[0mimshow\u001b[0m\u001b[0;34m(\u001b[0m\u001b[0mimg\u001b[0m\u001b[0;34m)\u001b[0m\u001b[0;34m\u001b[0m\u001b[0;34m\u001b[0m\u001b[0m\n\u001b[0m",
            "\u001b[0;32m/usr/local/lib/python3.7/dist-packages/matplotlib/pyplot.py\u001b[0m in \u001b[0;36mimshow\u001b[0;34m(X, cmap, norm, aspect, interpolation, alpha, vmin, vmax, origin, extent, shape, filternorm, filterrad, imlim, resample, url, data, **kwargs)\u001b[0m\n\u001b[1;32m   2649\u001b[0m         \u001b[0mfilternorm\u001b[0m\u001b[0;34m=\u001b[0m\u001b[0mfilternorm\u001b[0m\u001b[0;34m,\u001b[0m \u001b[0mfilterrad\u001b[0m\u001b[0;34m=\u001b[0m\u001b[0mfilterrad\u001b[0m\u001b[0;34m,\u001b[0m \u001b[0mimlim\u001b[0m\u001b[0;34m=\u001b[0m\u001b[0mimlim\u001b[0m\u001b[0;34m,\u001b[0m\u001b[0;34m\u001b[0m\u001b[0;34m\u001b[0m\u001b[0m\n\u001b[1;32m   2650\u001b[0m         resample=resample, url=url, **({\"data\": data} if data is not\n\u001b[0;32m-> 2651\u001b[0;31m         None else {}), **kwargs)\n\u001b[0m\u001b[1;32m   2652\u001b[0m     \u001b[0msci\u001b[0m\u001b[0;34m(\u001b[0m\u001b[0m__ret\u001b[0m\u001b[0;34m)\u001b[0m\u001b[0;34m\u001b[0m\u001b[0;34m\u001b[0m\u001b[0m\n\u001b[1;32m   2653\u001b[0m     \u001b[0;32mreturn\u001b[0m \u001b[0m__ret\u001b[0m\u001b[0;34m\u001b[0m\u001b[0;34m\u001b[0m\u001b[0m\n",
            "\u001b[0;32m/usr/local/lib/python3.7/dist-packages/matplotlib/__init__.py\u001b[0m in \u001b[0;36minner\u001b[0;34m(ax, data, *args, **kwargs)\u001b[0m\n\u001b[1;32m   1563\u001b[0m     \u001b[0;32mdef\u001b[0m \u001b[0minner\u001b[0m\u001b[0;34m(\u001b[0m\u001b[0max\u001b[0m\u001b[0;34m,\u001b[0m \u001b[0;34m*\u001b[0m\u001b[0margs\u001b[0m\u001b[0;34m,\u001b[0m \u001b[0mdata\u001b[0m\u001b[0;34m=\u001b[0m\u001b[0;32mNone\u001b[0m\u001b[0;34m,\u001b[0m \u001b[0;34m**\u001b[0m\u001b[0mkwargs\u001b[0m\u001b[0;34m)\u001b[0m\u001b[0;34m:\u001b[0m\u001b[0;34m\u001b[0m\u001b[0;34m\u001b[0m\u001b[0m\n\u001b[1;32m   1564\u001b[0m         \u001b[0;32mif\u001b[0m \u001b[0mdata\u001b[0m \u001b[0;32mis\u001b[0m \u001b[0;32mNone\u001b[0m\u001b[0;34m:\u001b[0m\u001b[0;34m\u001b[0m\u001b[0;34m\u001b[0m\u001b[0m\n\u001b[0;32m-> 1565\u001b[0;31m             \u001b[0;32mreturn\u001b[0m \u001b[0mfunc\u001b[0m\u001b[0;34m(\u001b[0m\u001b[0max\u001b[0m\u001b[0;34m,\u001b[0m \u001b[0;34m*\u001b[0m\u001b[0mmap\u001b[0m\u001b[0;34m(\u001b[0m\u001b[0msanitize_sequence\u001b[0m\u001b[0;34m,\u001b[0m \u001b[0margs\u001b[0m\u001b[0;34m)\u001b[0m\u001b[0;34m,\u001b[0m \u001b[0;34m**\u001b[0m\u001b[0mkwargs\u001b[0m\u001b[0;34m)\u001b[0m\u001b[0;34m\u001b[0m\u001b[0;34m\u001b[0m\u001b[0m\n\u001b[0m\u001b[1;32m   1566\u001b[0m \u001b[0;34m\u001b[0m\u001b[0m\n\u001b[1;32m   1567\u001b[0m         \u001b[0mbound\u001b[0m \u001b[0;34m=\u001b[0m \u001b[0mnew_sig\u001b[0m\u001b[0;34m.\u001b[0m\u001b[0mbind\u001b[0m\u001b[0;34m(\u001b[0m\u001b[0max\u001b[0m\u001b[0;34m,\u001b[0m \u001b[0;34m*\u001b[0m\u001b[0margs\u001b[0m\u001b[0;34m,\u001b[0m \u001b[0;34m**\u001b[0m\u001b[0mkwargs\u001b[0m\u001b[0;34m)\u001b[0m\u001b[0;34m\u001b[0m\u001b[0;34m\u001b[0m\u001b[0m\n",
            "\u001b[0;32m/usr/local/lib/python3.7/dist-packages/matplotlib/cbook/deprecation.py\u001b[0m in \u001b[0;36mwrapper\u001b[0;34m(*args, **kwargs)\u001b[0m\n\u001b[1;32m    356\u001b[0m                 \u001b[0;34mf\"%(removal)s.  If any parameter follows {name!r}, they \"\u001b[0m\u001b[0;34m\u001b[0m\u001b[0;34m\u001b[0m\u001b[0m\n\u001b[1;32m    357\u001b[0m                 f\"should be pass as keyword, not positionally.\")\n\u001b[0;32m--> 358\u001b[0;31m         \u001b[0;32mreturn\u001b[0m \u001b[0mfunc\u001b[0m\u001b[0;34m(\u001b[0m\u001b[0;34m*\u001b[0m\u001b[0margs\u001b[0m\u001b[0;34m,\u001b[0m \u001b[0;34m**\u001b[0m\u001b[0mkwargs\u001b[0m\u001b[0;34m)\u001b[0m\u001b[0;34m\u001b[0m\u001b[0;34m\u001b[0m\u001b[0m\n\u001b[0m\u001b[1;32m    359\u001b[0m \u001b[0;34m\u001b[0m\u001b[0m\n\u001b[1;32m    360\u001b[0m     \u001b[0;32mreturn\u001b[0m \u001b[0mwrapper\u001b[0m\u001b[0;34m\u001b[0m\u001b[0;34m\u001b[0m\u001b[0m\n",
            "\u001b[0;32m/usr/local/lib/python3.7/dist-packages/matplotlib/cbook/deprecation.py\u001b[0m in \u001b[0;36mwrapper\u001b[0;34m(*args, **kwargs)\u001b[0m\n\u001b[1;32m    356\u001b[0m                 \u001b[0;34mf\"%(removal)s.  If any parameter follows {name!r}, they \"\u001b[0m\u001b[0;34m\u001b[0m\u001b[0;34m\u001b[0m\u001b[0m\n\u001b[1;32m    357\u001b[0m                 f\"should be pass as keyword, not positionally.\")\n\u001b[0;32m--> 358\u001b[0;31m         \u001b[0;32mreturn\u001b[0m \u001b[0mfunc\u001b[0m\u001b[0;34m(\u001b[0m\u001b[0;34m*\u001b[0m\u001b[0margs\u001b[0m\u001b[0;34m,\u001b[0m \u001b[0;34m**\u001b[0m\u001b[0mkwargs\u001b[0m\u001b[0;34m)\u001b[0m\u001b[0;34m\u001b[0m\u001b[0;34m\u001b[0m\u001b[0m\n\u001b[0m\u001b[1;32m    359\u001b[0m \u001b[0;34m\u001b[0m\u001b[0m\n\u001b[1;32m    360\u001b[0m     \u001b[0;32mreturn\u001b[0m \u001b[0mwrapper\u001b[0m\u001b[0;34m\u001b[0m\u001b[0;34m\u001b[0m\u001b[0m\n",
            "\u001b[0;32m/usr/local/lib/python3.7/dist-packages/matplotlib/axes/_axes.py\u001b[0m in \u001b[0;36mimshow\u001b[0;34m(self, X, cmap, norm, aspect, interpolation, alpha, vmin, vmax, origin, extent, shape, filternorm, filterrad, imlim, resample, url, **kwargs)\u001b[0m\n\u001b[1;32m   5624\u001b[0m                               resample=resample, **kwargs)\n\u001b[1;32m   5625\u001b[0m \u001b[0;34m\u001b[0m\u001b[0m\n\u001b[0;32m-> 5626\u001b[0;31m         \u001b[0mim\u001b[0m\u001b[0;34m.\u001b[0m\u001b[0mset_data\u001b[0m\u001b[0;34m(\u001b[0m\u001b[0mX\u001b[0m\u001b[0;34m)\u001b[0m\u001b[0;34m\u001b[0m\u001b[0;34m\u001b[0m\u001b[0m\n\u001b[0m\u001b[1;32m   5627\u001b[0m         \u001b[0mim\u001b[0m\u001b[0;34m.\u001b[0m\u001b[0mset_alpha\u001b[0m\u001b[0;34m(\u001b[0m\u001b[0malpha\u001b[0m\u001b[0;34m)\u001b[0m\u001b[0;34m\u001b[0m\u001b[0;34m\u001b[0m\u001b[0m\n\u001b[1;32m   5628\u001b[0m         \u001b[0;32mif\u001b[0m \u001b[0mim\u001b[0m\u001b[0;34m.\u001b[0m\u001b[0mget_clip_path\u001b[0m\u001b[0;34m(\u001b[0m\u001b[0;34m)\u001b[0m \u001b[0;32mis\u001b[0m \u001b[0;32mNone\u001b[0m\u001b[0;34m:\u001b[0m\u001b[0;34m\u001b[0m\u001b[0;34m\u001b[0m\u001b[0m\n",
            "\u001b[0;32m/usr/local/lib/python3.7/dist-packages/matplotlib/image.py\u001b[0m in \u001b[0;36mset_data\u001b[0;34m(self, A)\u001b[0m\n\u001b[1;32m    697\u001b[0m                 or self._A.ndim == 3 and self._A.shape[-1] in [3, 4]):\n\u001b[1;32m    698\u001b[0m             raise TypeError(\"Invalid shape {} for image data\"\n\u001b[0;32m--> 699\u001b[0;31m                             .format(self._A.shape))\n\u001b[0m\u001b[1;32m    700\u001b[0m \u001b[0;34m\u001b[0m\u001b[0m\n\u001b[1;32m    701\u001b[0m         \u001b[0;32mif\u001b[0m \u001b[0mself\u001b[0m\u001b[0;34m.\u001b[0m\u001b[0m_A\u001b[0m\u001b[0;34m.\u001b[0m\u001b[0mndim\u001b[0m \u001b[0;34m==\u001b[0m \u001b[0;36m3\u001b[0m\u001b[0;34m:\u001b[0m\u001b[0;34m\u001b[0m\u001b[0;34m\u001b[0m\u001b[0m\n",
            "\u001b[0;31mTypeError\u001b[0m: Invalid shape (3, 32, 32) for image data"
          ]
        },
        {
          "output_type": "display_data",
          "data": {
            "text/plain": [
              "<Figure size 432x288 with 1 Axes>"
            ],
            "image/png": "[encoded data removed]"
          },
          "metadata": {
            "needs_background": "light"
          }
        }
      ]
    },
    {
      "cell_type": "markdown",
      "source": [
        "Now let's look at the code for displaying an image from the mnist dataset, which is an example given in the [pytorch dataset tutorial](https://pytorch.org/tutorials/beginner/basics/data_tutorial.html)."
      ],
      "metadata": {
        "id": "tuvPe-I1yENe"
      }
    },
    {
      "cell_type": "code",
      "source": [
        "mnist_ds = datasets.FashionMNIST(\n",
        "    root=\"./data\",\n",
        "    train=True,\n",
        "    download=True,\n",
        "    transform=transforms.ToTensor()\n",
        ")"
      ],
      "metadata": {
        "id": "SugNrWvAw3fw"
      },
      "execution_count": 54,
      "outputs": []
    },
    {
      "cell_type": "code",
      "source": [
        "sample_idx_mnist = torch.randint(len(mnist_ds), size=(1,)).item()\n",
        "img_mnist, label_mnist = mnist_ds[sample_idx_mnist]\n",
        "print(img_mnist.shape)\n"
      ],
      "metadata": {
        "colab": {
          "base_uri": "https://localhost:8080/"
        },
        "id": "OBEjIvaizFZz",
        "outputId": "141dde94-8a65-4f88-9bce-23eed5676e4c"
      },
      "execution_count": 55,
      "outputs": [
        {
          "output_type": "stream",
          "name": "stdout",
          "text": [
            "torch.Size([1, 28, 28])\n"
          ]
        }
      ]
    },
    {
      "cell_type": "markdown",
      "source": [
        "Notice that the mnist image has 1 instead of 3 in the first dimension. This is because the mnist images are black-and-white. \n",
        "\n",
        "In order to display them, the pytorch tutorial does a .squeeze(). What is this? The squeeze() function on a tensor gets rid of any dimensions which are just 1, so you can think of it as removing a useless dimension.\n",
        "\n",
        "The img.squeeze() on the mnist image removes that useless outer dimension, and it becomes a 2D image, which matplotlib will happily plot."
      ],
      "metadata": {
        "id": "kWz2nVOFzkzG"
      }
    },
    {
      "cell_type": "code",
      "source": [
        "print(img_mnist.squeeze().shape)\n",
        "plt.imshow(img_mnist.squeeze())"
      ],
      "metadata": {
        "colab": {
          "base_uri": "https://localhost:8080/",
          "height": 300
        },
        "id": "cRmIjKnIzi8H",
        "outputId": "e6e111d5-cc6f-40c3-9402-7b3ff2c492ed"
      },
      "execution_count": 56,
      "outputs": [
        {
          "output_type": "stream",
          "name": "stdout",
          "text": [
            "torch.Size([28, 28])\n"
          ]
        },
        {
          "output_type": "execute_result",
          "data": {
            "text/plain": [
              "<matplotlib.image.AxesImage at 0x7f658dbfff90>"
            ]
          },
          "metadata": {},
          "execution_count": 56
        },
        {
          "output_type": "display_data",
          "data": {
            "text/plain": [
              "<Figure size 432x288 with 1 Axes>"
            ],
            "image/png": "[encoded data removed]"
          },
          "metadata": {
            "needs_background": "light"
          }
        }
      ]
    },
    {
      "cell_type": "markdown",
      "source": [
        "But hang on.. you said mnist images were black-and-white and this is only a 2D tensor now... so where is the colour coming from?? Well it turns out that matplotlib will [apply a pseudocolour to your grayscale image](https://matplotlib.org/stable/tutorials/introductory/images.html#applying-pseudocolor-schemes-to-image-plots). Bizarre, but cool I guess. \n",
        "\n",
        "If you really want grayscale, you have to specify that."
      ],
      "metadata": {
        "id": "JQVStIQ01QEi"
      }
    },
    {
      "cell_type": "code",
      "source": [
        "plt.imshow(img_mnist.squeeze(), cmap=\"gray\")"
      ],
      "metadata": {
        "colab": {
          "base_uri": "https://localhost:8080/",
          "height": 282
        },
        "id": "S2s9JyjP0wWg",
        "outputId": "df46a738-87fe-4eed-c83e-549eacac7a79"
      },
      "execution_count": 57,
      "outputs": [
        {
          "output_type": "execute_result",
          "data": {
            "text/plain": [
              "<matplotlib.image.AxesImage at 0x7f6595eefb10>"
            ]
          },
          "metadata": {},
          "execution_count": 57
        },
        {
          "output_type": "display_data",
          "data": {
            "text/plain": [
              "<Figure size 432x288 with 1 Axes>"
            ],
            "image/png": "[encoded data removed]"
          },
          "metadata": {
            "needs_background": "light"
          }
        }
      ]
    },
    {
      "cell_type": "markdown",
      "source": [
        "Finally, if you want to see what plotting a normal png image looks like, which is covered in the [matplotlib image tutorial](https://matplotlib.org/stable/tutorials/introductory/images.html), it won't take long, stick around!"
      ],
      "metadata": {
        "id": "vZ-CW06t2O2n"
      }
    },
    {
      "cell_type": "code",
      "source": [
        "# we download the sample image\n",
        "!wget https://raw.githubusercontent.com/matplotlib/matplotlib/main/doc/_static/stinkbug.png"
      ],
      "metadata": {
        "colab": {
          "base_uri": "https://localhost:8080/"
        },
        "id": "WsbcUnw-3IJt",
        "outputId": "902d05e7-f281-441d-a05c-58d1bc6f4a0c"
      },
      "execution_count": 58,
      "outputs": [
        {
          "output_type": "stream",
          "name": "stdout",
          "text": [
            "--2022-10-14 05:04:21--  https://raw.githubusercontent.com/matplotlib/matplotlib/main/doc/_static/stinkbug.png\n",
            "Resolving raw.githubusercontent.com (raw.githubusercontent.com)... 185.199.108.133, 185.199.109.133, 185.199.110.133, ...\n",
            "Connecting to raw.githubusercontent.com (raw.githubusercontent.com)|185.199.108.133|:443... connected.\n",
            "HTTP request sent, awaiting response... 200 OK\n",
            "Length: 108161 (106K) [image/png]\n",
            "Saving to: ‘stinkbug.png.1’\n",
            "\n",
            "\rstinkbug.png.1        0%[                    ]       0  --.-KB/s               \rstinkbug.png.1      100%[===================>] 105.63K  --.-KB/s    in 0.007s  \n",
            "\n",
            "2022-10-14 05:04:21 (13.8 MB/s) - ‘stinkbug.png.1’ saved [108161/108161]\n",
            "\n"
          ]
        }
      ]
    },
    {
      "cell_type": "code",
      "source": [
        "# now we load it in - let's look at the shape\n",
        "bug_img = mpimg.imread('stinkbug.png')\n",
        "print(bug_img.shape)\n",
        "bug_img[0:2]"
      ],
      "metadata": {
        "colab": {
          "base_uri": "https://localhost:8080/"
        },
        "id": "5gfywTIe3YJB",
        "outputId": "b8dad0e6-8f5e-4d82-a047-b2f3a0a14195"
      },
      "execution_count": 59,
      "outputs": [
        {
          "output_type": "stream",
          "name": "stdout",
          "text": [
            "(375, 500, 3)\n"
          ]
        },
        {
          "output_type": "execute_result",
          "data": {
            "text/plain": [
              "array([[[0.40784314, 0.40784314, 0.40784314],\n",
              "        [0.40784314, 0.40784314, 0.40784314],\n",
              "        [0.40784314, 0.40784314, 0.40784314],\n",
              "        ...,\n",
              "        [0.42745098, 0.42745098, 0.42745098],\n",
              "        [0.42745098, 0.42745098, 0.42745098],\n",
              "        [0.42745098, 0.42745098, 0.42745098]],\n",
              "\n",
              "       [[0.4117647 , 0.4117647 , 0.4117647 ],\n",
              "        [0.4117647 , 0.4117647 , 0.4117647 ],\n",
              "        [0.4117647 , 0.4117647 , 0.4117647 ],\n",
              "        ...,\n",
              "        [0.42745098, 0.42745098, 0.42745098],\n",
              "        [0.42745098, 0.42745098, 0.42745098],\n",
              "        [0.42745098, 0.42745098, 0.42745098]]], dtype=float32)"
            ]
          },
          "metadata": {},
          "execution_count": 59
        }
      ]
    },
    {
      "cell_type": "code",
      "source": [
        "# now we print!\n",
        "plt.imshow(bug_img)"
      ],
      "metadata": {
        "colab": {
          "base_uri": "https://localhost:8080/",
          "height": 286
        },
        "id": "QdK6HpDA3rHP",
        "outputId": "5ef27eb7-685d-44a1-a63f-413f1f4b9978"
      },
      "execution_count": 60,
      "outputs": [
        {
          "output_type": "execute_result",
          "data": {
            "text/plain": [
              "<matplotlib.image.AxesImage at 0x7f658dce1290>"
            ]
          },
          "metadata": {},
          "execution_count": 60
        },
        {
          "output_type": "display_data",
          "data": {
            "text/plain": [
              "<Figure size 432x288 with 1 Axes>"
            ],
            "image/png": "[encoded data removed]"
          },
          "metadata": {
            "needs_background": "light"
          }
        }
      ]
    },
    {
      "cell_type": "markdown",
      "source": [
        "Feel free to do the full tutorials yourself!\n",
        "- [Matlab image tutorial ](https://matplotlib.org/stable/tutorials/introductory/images.html)\n",
        "- [Pytorch dataset tutorial](https://pytorch.org/tutorials/beginner/basics/data_tutorial.html)\n",
        "\n",
        "Happy ML adventures!"
      ],
      "metadata": {
        "id": "0rYdA7aK31MM"
      }
    }
  ]
}